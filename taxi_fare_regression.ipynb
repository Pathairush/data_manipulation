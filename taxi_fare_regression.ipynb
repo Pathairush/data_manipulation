{
 "cells": [
  {
   "cell_type": "code",
   "execution_count": 1,
   "metadata": {},
   "outputs": [
    {
     "name": "stdout",
     "output_type": "stream",
     "text": [
      "../input/train.csv\n"
     ]
    }
   ],
   "source": [
    "import pandas as pd \n",
    "import dask.dataframe as dd\n",
    "import os\n",
    "import time\n",
    "import gc\n",
    "import numpy as np\n",
    "train_path = '../input/train.csv'\n",
    "print(train_path)"
   ]
  },
  {
   "cell_type": "code",
   "execution_count": 2,
   "metadata": {},
   "outputs": [
    {
     "name": "stdout",
     "output_type": "stream",
     "text": [
      "the reading time for df set is 13 s\n",
      "the training shape is (5999961, 8)\n",
      "the df shape is (6009875, 8)\n"
     ]
    },
    {
     "data": {
      "text/html": [
       "<div>\n",
       "<style scoped>\n",
       "    .dataframe tbody tr th:only-of-type {\n",
       "        vertical-align: middle;\n",
       "    }\n",
       "\n",
       "    .dataframe tbody tr th {\n",
       "        vertical-align: top;\n",
       "    }\n",
       "\n",
       "    .dataframe thead th {\n",
       "        text-align: right;\n",
       "    }\n",
       "</style>\n",
       "<table border=\"1\" class=\"dataframe\">\n",
       "  <thead>\n",
       "    <tr style=\"text-align: right;\">\n",
       "      <th></th>\n",
       "      <th>key</th>\n",
       "      <th>fare_amount</th>\n",
       "      <th>pickup_datetime</th>\n",
       "      <th>pickup_longitude</th>\n",
       "      <th>pickup_latitude</th>\n",
       "      <th>dropoff_longitude</th>\n",
       "      <th>dropoff_latitude</th>\n",
       "      <th>passenger_count</th>\n",
       "    </tr>\n",
       "  </thead>\n",
       "  <tbody>\n",
       "    <tr>\n",
       "      <th>0</th>\n",
       "      <td>2009-06-15 17:26:21.0000001</td>\n",
       "      <td>4.5</td>\n",
       "      <td>2009-06-15 17:26:21 UTC</td>\n",
       "      <td>-73.844315</td>\n",
       "      <td>40.721317</td>\n",
       "      <td>-73.841614</td>\n",
       "      <td>40.712276</td>\n",
       "      <td>1</td>\n",
       "    </tr>\n",
       "    <tr>\n",
       "      <th>1</th>\n",
       "      <td>2010-01-05 16:52:16.0000002</td>\n",
       "      <td>16.9</td>\n",
       "      <td>2010-01-05 16:52:16 UTC</td>\n",
       "      <td>-74.016045</td>\n",
       "      <td>40.711304</td>\n",
       "      <td>-73.979271</td>\n",
       "      <td>40.782005</td>\n",
       "      <td>1</td>\n",
       "    </tr>\n",
       "    <tr>\n",
       "      <th>2</th>\n",
       "      <td>2011-08-18 00:35:00.00000049</td>\n",
       "      <td>5.7</td>\n",
       "      <td>2011-08-18 00:35:00 UTC</td>\n",
       "      <td>-73.982735</td>\n",
       "      <td>40.761269</td>\n",
       "      <td>-73.991241</td>\n",
       "      <td>40.750561</td>\n",
       "      <td>2</td>\n",
       "    </tr>\n",
       "    <tr>\n",
       "      <th>3</th>\n",
       "      <td>2012-04-21 04:30:42.0000001</td>\n",
       "      <td>7.7</td>\n",
       "      <td>2012-04-21 04:30:42 UTC</td>\n",
       "      <td>-73.987129</td>\n",
       "      <td>40.733143</td>\n",
       "      <td>-73.991570</td>\n",
       "      <td>40.758091</td>\n",
       "      <td>1</td>\n",
       "    </tr>\n",
       "    <tr>\n",
       "      <th>4</th>\n",
       "      <td>2010-03-09 07:51:00.000000135</td>\n",
       "      <td>5.3</td>\n",
       "      <td>2010-03-09 07:51:00 UTC</td>\n",
       "      <td>-73.968094</td>\n",
       "      <td>40.768009</td>\n",
       "      <td>-73.956657</td>\n",
       "      <td>40.783764</td>\n",
       "      <td>1</td>\n",
       "    </tr>\n",
       "  </tbody>\n",
       "</table>\n",
       "</div>"
      ],
      "text/plain": [
       "                             key  fare_amount          pickup_datetime  \\\n",
       "0    2009-06-15 17:26:21.0000001          4.5  2009-06-15 17:26:21 UTC   \n",
       "1    2010-01-05 16:52:16.0000002         16.9  2010-01-05 16:52:16 UTC   \n",
       "2   2011-08-18 00:35:00.00000049          5.7  2011-08-18 00:35:00 UTC   \n",
       "3    2012-04-21 04:30:42.0000001          7.7  2012-04-21 04:30:42 UTC   \n",
       "4  2010-03-09 07:51:00.000000135          5.3  2010-03-09 07:51:00 UTC   \n",
       "\n",
       "   pickup_longitude  pickup_latitude  dropoff_longitude  dropoff_latitude  \\\n",
       "0        -73.844315        40.721317         -73.841614         40.712276   \n",
       "1        -74.016045        40.711304         -73.979271         40.782005   \n",
       "2        -73.982735        40.761269         -73.991241         40.750561   \n",
       "3        -73.987129        40.733143         -73.991570         40.758091   \n",
       "4        -73.968094        40.768009         -73.956657         40.783764   \n",
       "\n",
       "   passenger_count  \n",
       "0                1  \n",
       "1                1  \n",
       "2                2  \n",
       "3                1  \n",
       "4                1  "
      ]
     },
     "metadata": {},
     "output_type": "display_data"
    },
    {
     "data": {
      "text/html": [
       "<div>\n",
       "<style scoped>\n",
       "    .dataframe tbody tr th:only-of-type {\n",
       "        vertical-align: middle;\n",
       "    }\n",
       "\n",
       "    .dataframe tbody tr th {\n",
       "        vertical-align: top;\n",
       "    }\n",
       "\n",
       "    .dataframe thead th {\n",
       "        text-align: right;\n",
       "    }\n",
       "</style>\n",
       "<table border=\"1\" class=\"dataframe\">\n",
       "  <thead>\n",
       "    <tr style=\"text-align: right;\">\n",
       "      <th></th>\n",
       "      <th>key</th>\n",
       "      <th>fare_amount</th>\n",
       "      <th>pickup_datetime</th>\n",
       "      <th>pickup_longitude</th>\n",
       "      <th>pickup_latitude</th>\n",
       "      <th>dropoff_longitude</th>\n",
       "      <th>dropoff_latitude</th>\n",
       "      <th>passenger_count</th>\n",
       "    </tr>\n",
       "  </thead>\n",
       "  <tbody>\n",
       "    <tr>\n",
       "      <th>9909</th>\n",
       "      <td>2015-05-10 12:37:51.0000002</td>\n",
       "      <td>NaN</td>\n",
       "      <td>2015-05-10 12:37:51 UTC</td>\n",
       "      <td>-73.968124</td>\n",
       "      <td>40.796997</td>\n",
       "      <td>-73.955643</td>\n",
       "      <td>40.780388</td>\n",
       "      <td>6</td>\n",
       "    </tr>\n",
       "    <tr>\n",
       "      <th>9910</th>\n",
       "      <td>2015-01-12 17:05:51.0000001</td>\n",
       "      <td>NaN</td>\n",
       "      <td>2015-01-12 17:05:51 UTC</td>\n",
       "      <td>-73.945511</td>\n",
       "      <td>40.803600</td>\n",
       "      <td>-73.960213</td>\n",
       "      <td>40.776371</td>\n",
       "      <td>6</td>\n",
       "    </tr>\n",
       "    <tr>\n",
       "      <th>9911</th>\n",
       "      <td>2015-04-19 20:44:15.0000001</td>\n",
       "      <td>NaN</td>\n",
       "      <td>2015-04-19 20:44:15 UTC</td>\n",
       "      <td>-73.991600</td>\n",
       "      <td>40.726608</td>\n",
       "      <td>-73.789742</td>\n",
       "      <td>40.647011</td>\n",
       "      <td>6</td>\n",
       "    </tr>\n",
       "    <tr>\n",
       "      <th>9912</th>\n",
       "      <td>2015-01-31 01:05:19.0000005</td>\n",
       "      <td>NaN</td>\n",
       "      <td>2015-01-31 01:05:19 UTC</td>\n",
       "      <td>-73.985573</td>\n",
       "      <td>40.735432</td>\n",
       "      <td>-73.939178</td>\n",
       "      <td>40.801731</td>\n",
       "      <td>6</td>\n",
       "    </tr>\n",
       "    <tr>\n",
       "      <th>9913</th>\n",
       "      <td>2015-01-18 14:06:23.0000006</td>\n",
       "      <td>NaN</td>\n",
       "      <td>2015-01-18 14:06:23 UTC</td>\n",
       "      <td>-73.988022</td>\n",
       "      <td>40.754070</td>\n",
       "      <td>-74.000282</td>\n",
       "      <td>40.759220</td>\n",
       "      <td>6</td>\n",
       "    </tr>\n",
       "  </tbody>\n",
       "</table>\n",
       "</div>"
      ],
      "text/plain": [
       "                              key  fare_amount          pickup_datetime  \\\n",
       "9909  2015-05-10 12:37:51.0000002          NaN  2015-05-10 12:37:51 UTC   \n",
       "9910  2015-01-12 17:05:51.0000001          NaN  2015-01-12 17:05:51 UTC   \n",
       "9911  2015-04-19 20:44:15.0000001          NaN  2015-04-19 20:44:15 UTC   \n",
       "9912  2015-01-31 01:05:19.0000005          NaN  2015-01-31 01:05:19 UTC   \n",
       "9913  2015-01-18 14:06:23.0000006          NaN  2015-01-18 14:06:23 UTC   \n",
       "\n",
       "      pickup_longitude  pickup_latitude  dropoff_longitude  dropoff_latitude  \\\n",
       "9909        -73.968124        40.796997         -73.955643         40.780388   \n",
       "9910        -73.945511        40.803600         -73.960213         40.776371   \n",
       "9911        -73.991600        40.726608         -73.789742         40.647011   \n",
       "9912        -73.985573        40.735432         -73.939178         40.801731   \n",
       "9913        -73.988022        40.754070         -74.000282         40.759220   \n",
       "\n",
       "      passenger_count  \n",
       "9909                6  \n",
       "9910                6  \n",
       "9911                6  \n",
       "9912                6  \n",
       "9913                6  "
      ]
     },
     "metadata": {},
     "output_type": "display_data"
    },
    {
     "name": "stdout",
     "output_type": "stream",
     "text": [
      "<class 'pandas.core.frame.DataFrame'>\n",
      "Int64Index: 6009875 entries, 0 to 9913\n",
      "Data columns (total 8 columns):\n",
      "key                  object\n",
      "fare_amount          float32\n",
      "pickup_datetime      object\n",
      "pickup_longitude     float32\n",
      "pickup_latitude      float32\n",
      "dropoff_longitude    float32\n",
      "dropoff_latitude     float32\n",
      "passenger_count      uint8\n",
      "dtypes: float32(5), object(2), uint8(1)\n",
      "memory usage: 257.9+ MB\n",
      "None\n"
     ]
    }
   ],
   "source": [
    "os.getcwd()\n",
    "nrows=6_000_000\n",
    "# def train(nrows=None):\n",
    "# Set columns to most suitable type to optimize for memory usage\n",
    "t0 = time.time()\n",
    "traintypes = {'key':'str',\n",
    "              'fare_amount': 'float32',\n",
    "     'pickup_datetime': 'str', \n",
    "     'pickup_longitude': 'float32',\n",
    "     'pickup_latitude': 'float32',\n",
    "     'dropoff_longitude': 'float32',\n",
    "     'dropoff_latitude': 'float32',\n",
    "     'passenger_count': 'uint8'}\n",
    "train = pd.read_csv('../03 Google Taxi Fare Prediction/input/train.csv',nrows=nrows,dtype=traintypes,usecols=traintypes.keys())\n",
    "train.dropna(inplace=True)\n",
    "testtypes = {'key':'str',\n",
    "             'pickup_datetime': 'str', \n",
    "     'pickup_longitude': 'float32',\n",
    "     'pickup_latitude': 'float32',\n",
    "     'dropoff_longitude': 'float32',\n",
    "     'dropoff_latitude': 'float32',\n",
    "     'passenger_count': 'uint8'}\n",
    "test = pd.read_csv('../03 Google Taxi Fare Prediction/input/test.csv',nrows=nrows,dtype=traintypes,usecols=testtypes.keys())\n",
    "print(\"the reading time for df set is {:.0f} s\".format((time.time() - t0)))\n",
    "df = pd.concat([train,test],axis=0,sort=False)\n",
    "print(\"the training shape is {}\".format(train.shape))\n",
    "print(\"the df shape is {}\".format(df.shape))\n",
    "display(df.head())\n",
    "display(df.tail())\n",
    "print(df.info())\n",
    "del train,test\n",
    "gc.collect();"
   ]
  },
  {
   "cell_type": "code",
   "execution_count": 3,
   "metadata": {},
   "outputs": [
    {
     "data": {
      "text/html": [
       "<div>\n",
       "<style scoped>\n",
       "    .dataframe tbody tr th:only-of-type {\n",
       "        vertical-align: middle;\n",
       "    }\n",
       "\n",
       "    .dataframe tbody tr th {\n",
       "        vertical-align: top;\n",
       "    }\n",
       "\n",
       "    .dataframe thead th {\n",
       "        text-align: right;\n",
       "    }\n",
       "</style>\n",
       "<table border=\"1\" class=\"dataframe\">\n",
       "  <thead>\n",
       "    <tr style=\"text-align: right;\">\n",
       "      <th></th>\n",
       "      <th>fare_amount</th>\n",
       "      <th>pickup_longitude</th>\n",
       "      <th>pickup_latitude</th>\n",
       "      <th>dropoff_longitude</th>\n",
       "      <th>dropoff_latitude</th>\n",
       "      <th>passenger_count</th>\n",
       "    </tr>\n",
       "  </thead>\n",
       "  <tbody>\n",
       "    <tr>\n",
       "      <th>count</th>\n",
       "      <td>5.999961e+06</td>\n",
       "      <td>6.009875e+06</td>\n",
       "      <td>6.009875e+06</td>\n",
       "      <td>6.009875e+06</td>\n",
       "      <td>6.009875e+06</td>\n",
       "      <td>6.009875e+06</td>\n",
       "    </tr>\n",
       "    <tr>\n",
       "      <th>mean</th>\n",
       "      <td>1.132846e+01</td>\n",
       "      <td>-6.985543e+01</td>\n",
       "      <td>4.263308e+01</td>\n",
       "      <td>-6.985470e+01</td>\n",
       "      <td>4.262899e+01</td>\n",
       "      <td>1.684634e+00</td>\n",
       "    </tr>\n",
       "    <tr>\n",
       "      <th>std</th>\n",
       "      <td>9.764237e+00</td>\n",
       "      <td>1.284012e+01</td>\n",
       "      <td>9.266454e+00</td>\n",
       "      <td>1.290134e+01</td>\n",
       "      <td>9.596098e+00</td>\n",
       "      <td>1.327712e+00</td>\n",
       "    </tr>\n",
       "    <tr>\n",
       "      <th>min</th>\n",
       "      <td>-1.000000e+02</td>\n",
       "      <td>-3.426609e+03</td>\n",
       "      <td>-3.488080e+03</td>\n",
       "      <td>-3.412653e+03</td>\n",
       "      <td>-3.488080e+03</td>\n",
       "      <td>0.000000e+00</td>\n",
       "    </tr>\n",
       "    <tr>\n",
       "      <th>25%</th>\n",
       "      <td>6.000000e+00</td>\n",
       "      <td>-7.399207e+01</td>\n",
       "      <td>4.073491e+01</td>\n",
       "      <td>-7.399139e+01</td>\n",
       "      <td>4.073404e+01</td>\n",
       "      <td>1.000000e+00</td>\n",
       "    </tr>\n",
       "    <tr>\n",
       "      <th>50%</th>\n",
       "      <td>8.500000e+00</td>\n",
       "      <td>-7.398182e+01</td>\n",
       "      <td>4.075263e+01</td>\n",
       "      <td>-7.398016e+01</td>\n",
       "      <td>4.075316e+01</td>\n",
       "      <td>1.000000e+00</td>\n",
       "    </tr>\n",
       "    <tr>\n",
       "      <th>75%</th>\n",
       "      <td>1.250000e+01</td>\n",
       "      <td>-7.396711e+01</td>\n",
       "      <td>4.076712e+01</td>\n",
       "      <td>-7.396368e+01</td>\n",
       "      <td>4.076811e+01</td>\n",
       "      <td>2.000000e+00</td>\n",
       "    </tr>\n",
       "    <tr>\n",
       "      <th>max</th>\n",
       "      <td>1.273310e+03</td>\n",
       "      <td>3.439426e+03</td>\n",
       "      <td>3.344459e+03</td>\n",
       "      <td>3.457622e+03</td>\n",
       "      <td>3.345917e+03</td>\n",
       "      <td>2.080000e+02</td>\n",
       "    </tr>\n",
       "  </tbody>\n",
       "</table>\n",
       "</div>"
      ],
      "text/plain": [
       "        fare_amount  pickup_longitude  pickup_latitude  dropoff_longitude  \\\n",
       "count  5.999961e+06      6.009875e+06     6.009875e+06       6.009875e+06   \n",
       "mean   1.132846e+01     -6.985543e+01     4.263308e+01      -6.985470e+01   \n",
       "std    9.764237e+00      1.284012e+01     9.266454e+00       1.290134e+01   \n",
       "min   -1.000000e+02     -3.426609e+03    -3.488080e+03      -3.412653e+03   \n",
       "25%    6.000000e+00     -7.399207e+01     4.073491e+01      -7.399139e+01   \n",
       "50%    8.500000e+00     -7.398182e+01     4.075263e+01      -7.398016e+01   \n",
       "75%    1.250000e+01     -7.396711e+01     4.076712e+01      -7.396368e+01   \n",
       "max    1.273310e+03      3.439426e+03     3.344459e+03       3.457622e+03   \n",
       "\n",
       "       dropoff_latitude  passenger_count  \n",
       "count      6.009875e+06     6.009875e+06  \n",
       "mean       4.262899e+01     1.684634e+00  \n",
       "std        9.596098e+00     1.327712e+00  \n",
       "min       -3.488080e+03     0.000000e+00  \n",
       "25%        4.073404e+01     1.000000e+00  \n",
       "50%        4.075316e+01     1.000000e+00  \n",
       "75%        4.076811e+01     2.000000e+00  \n",
       "max        3.345917e+03     2.080000e+02  "
      ]
     },
     "metadata": {},
     "output_type": "display_data"
    },
    {
     "name": "stdout",
     "output_type": "stream",
     "text": [
      "There have somebody who takes a ride with 93_963 $ !!! Seem pretty wierd right ?\n"
     ]
    },
    {
     "data": {
      "text/plain": [
       "1144706    1273.310059\n",
       "4894706     952.000000\n",
       "3723759     698.159973\n",
       "3206977     542.830017\n",
       "3316931     500.000000\n",
       "101885      500.000000\n",
       "5388368     499.000000\n",
       "247671      495.000000\n",
       "1215047     488.000000\n",
       "329010      450.000000\n",
       "Name: fare_amount, dtype: float32"
      ]
     },
     "metadata": {},
     "output_type": "display_data"
    },
    {
     "name": "stdout",
     "output_type": "stream",
     "text": [
      "Only little missing data out there\n"
     ]
    },
    {
     "data": {
      "text/plain": [
       "key                  0.00000\n",
       "fare_amount          0.00165\n",
       "pickup_datetime      0.00000\n",
       "pickup_longitude     0.00000\n",
       "pickup_latitude      0.00000\n",
       "dropoff_longitude    0.00000\n",
       "dropoff_latitude     0.00000\n",
       "passenger_count      0.00000\n",
       "dtype: float64"
      ]
     },
     "metadata": {},
     "output_type": "display_data"
    }
   ],
   "source": [
    "#some EDA\n",
    "display(df.describe())\n",
    "print(\"There have somebody who takes a ride with 93_963 $ !!! Seem pretty wierd right ?\")\n",
    "display(df.fare_amount.sort_values(ascending=False).head(10))\n",
    "print(\"Only little missing data out there\")\n",
    "display(df.isna().mean())"
   ]
  },
  {
   "cell_type": "markdown",
   "metadata": {},
   "source": [
    "let's calculate the distance from latitude and longtitude"
   ]
  },
  {
   "cell_type": "code",
   "execution_count": 4,
   "metadata": {},
   "outputs": [
    {
     "data": {
      "text/plain": [
       "key                  0\n",
       "fare_amount          0\n",
       "pickup_datetime      0\n",
       "pickup_longitude     0\n",
       "pickup_latitude      0\n",
       "dropoff_longitude    0\n",
       "dropoff_latitude     0\n",
       "passenger_count      0\n",
       "dtype: int64"
      ]
     },
     "execution_count": 4,
     "metadata": {},
     "output_type": "execute_result"
    }
   ],
   "source": [
    "df.loc[~df['fare_amount'].isna()].isna().sum()"
   ]
  },
  {
   "cell_type": "code",
   "execution_count": 5,
   "metadata": {},
   "outputs": [],
   "source": [
    "df['diff_long'] = (df['pickup_longitude'] - df['dropoff_longitude']).abs()\n",
    "df['diff_lat'] = (df['pickup_latitude'] - df['dropoff_latitude']).abs()\n",
    "df['displacement'] = np.sqrt((df['diff_long'])**2 + (df['diff_lat'])**2)\n",
    "# display(df.head())"
   ]
  },
  {
   "cell_type": "code",
   "execution_count": 6,
   "metadata": {},
   "outputs": [],
   "source": [
    "from sklearn import linear_model\n",
    "from sklearn.metrics import mean_squared_error\n",
    "from sklearn.model_selection import train_test_split\n",
    "from sklearn.model_selection import cross_validate\n",
    "from sklearn.metrics.scorer import make_scorer"
   ]
  },
  {
   "cell_type": "code",
   "execution_count": null,
   "metadata": {
    "scrolled": true
   },
   "outputs": [],
   "source": [
    "# %%time\n",
    "import lightgbm as lgb\n",
    "from sklearn.model_selection import KFold\n",
    "df_train = df[df['fare_amount'].notnull()].drop(columns=['fare_amount']).select_dtypes('number')\n",
    "df_label = df[df['fare_amount'].notnull()]['fare_amount'].copy()\n",
    "\n",
    "# train test split\n",
    "# train_features,valid_feature , train_label, valid_label = train_test_split(df_train, df_label, test_size = 0.3,random_state=42);\n",
    "    \n",
    "regressor = lgb.LGBMRegressor(nthread=1,\n",
    "         n_estimators=10000,\n",
    "         learning_rate=0.02,\n",
    "         num_leaves=34, \n",
    "         colsample_bytree=0.9497036,\n",
    "         subsample=0.8715623,\n",
    "         max_depth=8,\n",
    "         reg_alpha=0.041545473,\n",
    "         reg_lambda=0.0735294,\n",
    "         min_split_gain=0.0222415,\n",
    "         min_child_weight=39.3259775,\n",
    "         silent=-1,\n",
    "         verbose=-1) # from aguiar\n",
    "\n",
    "#kfold \n",
    "RMSE = [];\n",
    "folds = KFold(n_splits=3,shuffle = True, random_state=42)\n",
    "for n_fold, (train_idx, valid_idx) in enumerate(folds.split(df_train, df_label)):\n",
    "    \n",
    "    train_feature, train_label = df_train.iloc[train_idx], df_label.iloc[train_idx]\n",
    "    valid_feature, valid_label = df_train.iloc[valid_idx], df_label.iloc[valid_idx]\n",
    "#     import pdb; pdb.set_trace()\n",
    "    regressor.fit(train_feature,train_label,\n",
    "                  eval_set=[(train_feature, train_label), (valid_feature, valid_label)],\n",
    "                  early_stopping_rounds = 200,verbose=50,eval_metric='l2')\n",
    "    valid_pred = regressor.predict(valid_feature)\n",
    "\n",
    "    RMSE.append(np.sqrt(mean_squared_error(valid_label,valid_pred)))\n",
    "    print(\"finish fold {}\".format(n_fold+1))\n",
    "    "
   ]
  },
  {
   "cell_type": "code",
   "execution_count": 35,
   "metadata": {},
   "outputs": [
    {
     "name": "stdout",
     "output_type": "stream",
     "text": [
      "Wall time: 0 ns\n"
     ]
    },
    {
     "data": {
      "text/plain": [
       "4.601772573064144"
      ]
     },
     "execution_count": 35,
     "metadata": {},
     "output_type": "execute_result"
    }
   ],
   "source": [
    "%%time\n",
    "np.mean(RMSE)"
   ]
  },
  {
   "cell_type": "code",
   "execution_count": 21,
   "metadata": {},
   "outputs": [
    {
     "data": {
      "text/html": [
       "<div>\n",
       "<style scoped>\n",
       "    .dataframe tbody tr th:only-of-type {\n",
       "        vertical-align: middle;\n",
       "    }\n",
       "\n",
       "    .dataframe tbody tr th {\n",
       "        vertical-align: top;\n",
       "    }\n",
       "\n",
       "    .dataframe thead th {\n",
       "        text-align: right;\n",
       "    }\n",
       "</style>\n",
       "<table border=\"1\" class=\"dataframe\">\n",
       "  <thead>\n",
       "    <tr style=\"text-align: right;\">\n",
       "      <th></th>\n",
       "      <th>fare_amount</th>\n",
       "      <th>pickup_longitude</th>\n",
       "      <th>pickup_latitude</th>\n",
       "      <th>dropoff_longitude</th>\n",
       "      <th>dropoff_latitude</th>\n",
       "      <th>passenger_count</th>\n",
       "      <th>diff_long</th>\n",
       "      <th>diff_lat</th>\n",
       "      <th>displacement</th>\n",
       "    </tr>\n",
       "  </thead>\n",
       "  <tbody>\n",
       "    <tr>\n",
       "      <th>0</th>\n",
       "      <td>NaN</td>\n",
       "      <td>-73.973320</td>\n",
       "      <td>40.763805</td>\n",
       "      <td>-73.981430</td>\n",
       "      <td>40.743835</td>\n",
       "      <td>1</td>\n",
       "      <td>0.008110</td>\n",
       "      <td>0.019970</td>\n",
       "      <td>0.021554</td>\n",
       "    </tr>\n",
       "    <tr>\n",
       "      <th>1</th>\n",
       "      <td>NaN</td>\n",
       "      <td>-73.986862</td>\n",
       "      <td>40.719383</td>\n",
       "      <td>-73.998886</td>\n",
       "      <td>40.739201</td>\n",
       "      <td>1</td>\n",
       "      <td>0.012024</td>\n",
       "      <td>0.019817</td>\n",
       "      <td>0.023180</td>\n",
       "    </tr>\n",
       "    <tr>\n",
       "      <th>2</th>\n",
       "      <td>NaN</td>\n",
       "      <td>-73.982521</td>\n",
       "      <td>40.751259</td>\n",
       "      <td>-73.979652</td>\n",
       "      <td>40.746140</td>\n",
       "      <td>1</td>\n",
       "      <td>0.002869</td>\n",
       "      <td>0.005119</td>\n",
       "      <td>0.005868</td>\n",
       "    </tr>\n",
       "    <tr>\n",
       "      <th>3</th>\n",
       "      <td>NaN</td>\n",
       "      <td>-73.981163</td>\n",
       "      <td>40.767807</td>\n",
       "      <td>-73.990448</td>\n",
       "      <td>40.751637</td>\n",
       "      <td>1</td>\n",
       "      <td>0.009285</td>\n",
       "      <td>0.016171</td>\n",
       "      <td>0.018647</td>\n",
       "    </tr>\n",
       "    <tr>\n",
       "      <th>4</th>\n",
       "      <td>NaN</td>\n",
       "      <td>-73.966049</td>\n",
       "      <td>40.789776</td>\n",
       "      <td>-73.988564</td>\n",
       "      <td>40.744427</td>\n",
       "      <td>1</td>\n",
       "      <td>0.022514</td>\n",
       "      <td>0.045349</td>\n",
       "      <td>0.050630</td>\n",
       "    </tr>\n",
       "  </tbody>\n",
       "</table>\n",
       "</div>"
      ],
      "text/plain": [
       "   fare_amount  pickup_longitude  pickup_latitude  dropoff_longitude  \\\n",
       "0          NaN        -73.973320        40.763805         -73.981430   \n",
       "1          NaN        -73.986862        40.719383         -73.998886   \n",
       "2          NaN        -73.982521        40.751259         -73.979652   \n",
       "3          NaN        -73.981163        40.767807         -73.990448   \n",
       "4          NaN        -73.966049        40.789776         -73.988564   \n",
       "\n",
       "   dropoff_latitude  passenger_count  diff_long  diff_lat  displacement  \n",
       "0         40.743835                1   0.008110  0.019970      0.021554  \n",
       "1         40.739201                1   0.012024  0.019817      0.023180  \n",
       "2         40.746140                1   0.002869  0.005119      0.005868  \n",
       "3         40.751637                1   0.009285  0.016171      0.018647  \n",
       "4         40.744427                1   0.022514  0.045349      0.050630  "
      ]
     },
     "execution_count": 21,
     "metadata": {},
     "output_type": "execute_result"
    }
   ],
   "source": [
    "test_df.head()"
   ]
  },
  {
   "cell_type": "code",
   "execution_count": 36,
   "metadata": {},
   "outputs": [
    {
     "name": "stdout",
     "output_type": "stream",
     "text": [
      "Wall time: 5.04 s\n"
     ]
    }
   ],
   "source": [
    "%%time\n",
    "test_df = df[df['fare_amount'].isnull()].drop(columns='fare_amount').select_dtypes('number')\n",
    "test_df_pred = regressor.predict(test_df)"
   ]
  },
  {
   "cell_type": "code",
   "execution_count": 34,
   "metadata": {},
   "outputs": [
    {
     "name": "stdout",
     "output_type": "stream",
     "text": [
      "[15.49248107 16.45173185 15.59451828 15.98751307  2.44283138 11.9156223\n",
      " 11.73983543 10.37546662]\n",
      "Index(['pickup_longitude', 'pickup_latitude', 'dropoff_longitude',\n",
      "       'dropoff_latitude', 'passenger_count', 'diff_long', 'diff_lat',\n",
      "       'displacement'],\n",
      "      dtype='object')\n"
     ]
    }
   ],
   "source": [
    "print(regressor.feature_importances_/np.sum(regressor.feature_importances_)*100)\n",
    "print(train_feature.columns)"
   ]
  },
  {
   "cell_type": "code",
   "execution_count": null,
   "metadata": {},
   "outputs": [],
   "source": [
    "# Divide in training/validation and test data\n",
    "train_df = df[df['fare_amount'].notnull()]\n",
    "test_df = df[df['fare_amount'].isnull()]\n",
    "print(\"Starting. Train shape: {}, test shape: {}\".format(train_df.shape, test_df.shape))\n",
    "# del df\n",
    "gc.collect()\n",
    "\n",
    "train_df_label = train_df.pop(\"fare_amount\")\n",
    "train_df_feature = train_df.select_dtypes(\"number\")\n",
    "test_df_feature = test_df.drop(columns='fare_amount').select_dtypes('number')\n",
    "\n",
    "#estimator \n",
    "alpha = np.logspace(-3,3,7)\n",
    "lasso = linear_model.LassoCV(alphas = alpha, cv = 5, verbose = 0);\n",
    "lasso\n",
    "\n",
    "# baseline model \n",
    "t0 = time.time()\n",
    "lasso = lasso.fit(train_df_feature,train_df_label)\n",
    "print(\"the traning time is {:.0f} s\".format((time.time() - t0)))\n",
    "test_df_pred = lasso.predict(test_df_feature)"
   ]
  },
  {
   "cell_type": "code",
   "execution_count": null,
   "metadata": {},
   "outputs": [],
   "source": [
    "test_df_pred[:5]"
   ]
  },
  {
   "cell_type": "code",
   "execution_count": 27,
   "metadata": {},
   "outputs": [
    {
     "name": "stdout",
     "output_type": "stream",
     "text": [
      "                           key  fare_amount\n",
      "0  2015-01-27 13:08:24.0000002     8.518349\n",
      "1  2015-01-27 13:08:24.0000003     8.738415\n",
      "2  2011-10-08 11:53:44.0000002     4.814409\n",
      "3  2012-12-01 21:12:12.0000002     8.149880\n",
      "4  2012-12-01 21:12:12.0000003    14.842281\n"
     ]
    }
   ],
   "source": [
    "submission = pd.concat([df[df['fare_amount'].isnull()]['key'],pd.DataFrame(test_df_pred,columns=['fare_amount'])],axis=1)\n",
    "print(submission.head())\n",
    "submission.to_csv(\"lightgbm.csv\",index_label=False,index=False)"
   ]
  },
  {
   "cell_type": "code",
   "execution_count": 28,
   "metadata": {},
   "outputs": [
    {
     "data": {
      "text/plain": [
       "(9914, 2)"
      ]
     },
     "execution_count": 28,
     "metadata": {},
     "output_type": "execute_result"
    }
   ],
   "source": [
    "submission.shape"
   ]
  }
 ],
 "metadata": {
  "kernelspec": {
   "display_name": "Python 3",
   "language": "python",
   "name": "python3"
  },
  "language_info": {
   "codemirror_mode": {
    "name": "ipython",
    "version": 3
   },
   "file_extension": ".py",
   "mimetype": "text/x-python",
   "name": "python",
   "nbconvert_exporter": "python",
   "pygments_lexer": "ipython3",
   "version": "3.6.5"
  }
 },
 "nbformat": 4,
 "nbformat_minor": 2
}
